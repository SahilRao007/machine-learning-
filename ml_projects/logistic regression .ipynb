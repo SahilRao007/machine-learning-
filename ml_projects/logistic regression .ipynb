{
 "cells": [
  {
   "cell_type": "markdown",
   "id": "69cc0406",
   "metadata": {},
   "source": [
    "## predicting the no using logistic regression "
   ]
  },
  {
   "cell_type": "code",
   "execution_count": 1,
   "id": "687a8e6e",
   "metadata": {},
   "outputs": [],
   "source": [
    "import pandas as pd \n",
    "import numpy as np \n",
    "from sklearn.datasets import load_digits\n",
    "import matplotlib.pyplot as plt \n",
    "import seaborn as sns \n"
   ]
  },
  {
   "cell_type": "code",
   "execution_count": 2,
   "id": "3462e6c8",
   "metadata": {},
   "outputs": [],
   "source": [
    "digits=load_digits()"
   ]
  },
  {
   "cell_type": "code",
   "execution_count": 3,
   "id": "a236461a",
   "metadata": {},
   "outputs": [],
   "source": [
    "data=digits.data\n",
    "target=digits.target"
   ]
  },
  {
   "cell_type": "code",
   "execution_count": 4,
   "id": "d39bb1b2",
   "metadata": {},
   "outputs": [
    {
     "name": "stdout",
     "output_type": "stream",
     "text": [
      "(1797, 64)\n",
      "2\n"
     ]
    },
    {
     "data": {
      "text/plain": [
       "array([[ 0.,  0.,  0., 12., 13.,  5.,  0.,  0.],\n",
       "       [ 0.,  0.,  0., 11., 16.,  9.,  0.,  0.],\n",
       "       [ 0.,  0.,  3., 15., 16.,  6.,  0.,  0.],\n",
       "       [ 0.,  7., 15., 16., 16.,  2.,  0.,  0.],\n",
       "       [ 0.,  0.,  1., 16., 16.,  3.,  0.,  0.],\n",
       "       [ 0.,  0.,  1., 16., 16.,  6.,  0.,  0.],\n",
       "       [ 0.,  0.,  1., 16., 16.,  6.,  0.,  0.],\n",
       "       [ 0.,  0.,  0., 11., 16., 10.,  0.,  0.]])"
      ]
     },
     "execution_count": 4,
     "metadata": {},
     "output_type": "execute_result"
    }
   ],
   "source": [
    "print(data.shape)\n",
    "print(data.ndim)\n",
    "val=data[1].reshape(8,8)\n",
    "t=target[1]\n",
    "val"
   ]
  },
  {
   "cell_type": "code",
   "execution_count": 5,
   "id": "6b91acdf",
   "metadata": {},
   "outputs": [
    {
     "name": "stdout",
     "output_type": "stream",
     "text": [
      "(1797,)\n",
      "1\n"
     ]
    },
    {
     "data": {
      "text/plain": [
       "array([0, 1, 2, 3, 4])"
      ]
     },
     "execution_count": 5,
     "metadata": {},
     "output_type": "execute_result"
    }
   ],
   "source": [
    "print(target.shape)\n",
    "print(target.ndim)\n",
    "target[:5]"
   ]
  },
  {
   "cell_type": "code",
   "execution_count": 6,
   "id": "30d3b1a2",
   "metadata": {},
   "outputs": [
    {
     "data": {
      "image/png": "[encoded data removed]",
      "text/plain": [
       "<Figure size 640x480 with 5 Axes>"
      ]
     },
     "metadata": {},
     "output_type": "display_data"
    }
   ],
   "source": [
    "for index, (image,label) in enumerate(zip(data[:5],target[:5])):\n",
    "    plt.subplot(1,5,index+1)\n",
    "    plt.imshow(np.reshape(image,(8,8)))\n",
    "    plt.title('Training:%i\\n'%label)"
   ]
  },
  {
   "cell_type": "markdown",
   "id": "8aa6c65a",
   "metadata": {},
   "source": [
    "for i , (a,b) in enumerate (zip(d1,d2)) \n",
    "i -> for loop index \n",
    "a -> d1 \n",
    "b-> d2 \n",
    "subplot for ploting multiple graphs (row , column , indexing ) \n",
    "imshow for showing the images according to the points value \n"
   ]
  },
  {
   "cell_type": "code",
   "execution_count": 7,
   "id": "dd747ec6",
   "metadata": {},
   "outputs": [],
   "source": [
    "from sklearn.model_selection import train_test_split as tts\n",
    "X_train,X_test,y_train,y_test=tts(data,target,test_size=0.3,random_state=3)"
   ]
  },
  {
   "cell_type": "code",
   "execution_count": 8,
   "id": "7d5eb1b1",
   "metadata": {},
   "outputs": [
    {
     "name": "stdout",
     "output_type": "stream",
     "text": [
      "(1257, 64)\n"
     ]
    }
   ],
   "source": [
    "print(X_train.shape)"
   ]
  },
  {
   "cell_type": "code",
   "execution_count": 9,
   "id": "412f21d8",
   "metadata": {},
   "outputs": [
    {
     "name": "stdout",
     "output_type": "stream",
     "text": [
      "(1257,)\n"
     ]
    }
   ],
   "source": [
    "print(y_train.shape)"
   ]
  },
  {
   "cell_type": "code",
   "execution_count": 10,
   "id": "cd36c65b",
   "metadata": {},
   "outputs": [],
   "source": [
    "from sklearn.linear_model import LogisticRegression "
   ]
  },
  {
   "cell_type": "code",
   "execution_count": 11,
   "id": "776378c1",
   "metadata": {},
   "outputs": [
    {
     "data": {
      "text/plain": [
       "LogisticRegression()"
      ]
     },
     "execution_count": 11,
     "metadata": {},
     "output_type": "execute_result"
    }
   ],
   "source": [
    "lr=LogisticRegression()\n",
    "lr"
   ]
  },
  {
   "cell_type": "code",
   "execution_count": 12,
   "id": "366c8ba2",
   "metadata": {},
   "outputs": [
    {
     "name": "stderr",
     "output_type": "stream",
     "text": [
      "C:\\ProgramData\\Anaconda3\\lib\\site-packages\\sklearn\\linear_model\\_logistic.py:814: ConvergenceWarning: lbfgs failed to converge (status=1):\n",
      "STOP: TOTAL NO. of ITERATIONS REACHED LIMIT.\n",
      "\n",
      "Increase the number of iterations (max_iter) or scale the data as shown in:\n",
      "    https://scikit-learn.org/stable/modules/preprocessing.html\n",
      "Please also refer to the documentation for alternative solver options:\n",
      "    https://scikit-learn.org/stable/modules/linear_model.html#logistic-regression\n",
      "  n_iter_i = _check_optimize_result(\n"
     ]
    },
    {
     "data": {
      "text/plain": [
       "LogisticRegression()"
      ]
     },
     "execution_count": 12,
     "metadata": {},
     "output_type": "execute_result"
    }
   ],
   "source": [
    "lr.fit(X_train,y_train)"
   ]
  },
  {
   "cell_type": "code",
   "execution_count": 13,
   "id": "5f3c0d8c",
   "metadata": {},
   "outputs": [
    {
     "name": "stdout",
     "output_type": "stream",
     "text": [
      "[0 4 1 2 0]\n",
      "[0 4 1 2 0]\n",
      "(540,) (540,)\n",
      "(8, 8)\n"
     ]
    }
   ],
   "source": [
    "y_pred=lr.predict(X_test)\n",
    "print(y_pred[:5])\n",
    "print(y_test[:5])\n",
    "print(y_pred.shape,y_test.shape)\n",
    "print(X_test[1].reshape(8,8).shape)"
   ]
  },
  {
   "cell_type": "code",
   "execution_count": 14,
   "id": "bed0413d",
   "metadata": {},
   "outputs": [
    {
     "data": {
      "text/plain": [
       "0.9537037037037037"
      ]
     },
     "execution_count": 14,
     "metadata": {},
     "output_type": "execute_result"
    }
   ],
   "source": [
    "score=lr.score(X_test,y_test)\n",
    "score"
   ]
  },
  {
   "cell_type": "code",
   "execution_count": 15,
   "id": "8cd59123",
   "metadata": {},
   "outputs": [
    {
     "name": "stdout",
     "output_type": "stream",
     "text": [
      "[[64  0  0  0  0  0  0  0  0  0]\n",
      " [ 0 55  0  0  0  0  0  0  1  0]\n",
      " [ 0  1 55  0  0  0  0  0  0  0]\n",
      " [ 0  0  1 54  0  0  0  0  1  0]\n",
      " [ 0  3  0  0 55  0  1  1  1  0]\n",
      " [ 0  1  0  0  1 45  0  0  0  2]\n",
      " [ 0  1  0  0  0  1 39  0  1  0]\n",
      " [ 0  0  0  0  0  0  0 56  1  0]\n",
      " [ 0  1  0  0  0  2  0  0 48  1]\n",
      " [ 0  0  0  0  1  1  0  0  1 44]]\n"
     ]
    }
   ],
   "source": [
    "from sklearn import metrics \n",
    "#from sklearn.metrics import confusion_matrix  'another way' \n",
    "cm=metrics.confusion_matrix(y_test,y_pred)\n",
    "print(cm)"
   ]
  },
  {
   "cell_type": "markdown",
   "id": "1b704baf",
   "metadata": {},
   "source": [
    "the diagonal represents the correct prediction and calucates the accuracy is that adding all the diagonal values and dividing with the total values "
   ]
  },
  {
   "cell_type": "code",
   "execution_count": 27,
   "id": "83e57838",
   "metadata": {},
   "outputs": [
    {
     "data": {
      "text/plain": [
       "Text(0.5, 1.0, 'accuracy is: 0.954')"
      ]
     },
     "execution_count": 27,
     "metadata": {},
     "output_type": "execute_result"
    },
    {
     "data": {
      "image/png": "[encoded data removed]",
      "text/plain": [
       "<Figure size 640x480 with 2 Axes>"
      ]
     },
     "metadata": {},
     "output_type": "display_data"
    }
   ],
   "source": [
    "sns.heatmap(cm,annot=True,fmt='.1f',cmap='Blues_r',square=True)\n",
    "plt.title('accuracy is: %.3f'%score)"
   ]
  },
  {
   "cell_type": "code",
   "execution_count": 42,
   "id": "605482eb",
   "metadata": {},
   "outputs": [],
   "source": [
    "#why is it not working with ( score(y_pred,y_test))\n",
    "#plt.figure(figsize=(20,3))\n",
    "#for plotIndex, wrong in enumerate(misclassifiedIndex[0:4]):\n",
    " #   plt.subplot(1,4, plotIndex +1)\n",
    "  #  plt.imshow(np.reshape(x_test[wrong], (8,8)),cmap=plt.cm.gray)\n",
    "   # plt.title(\"Predicted: {}, Actual: {}\" .format(predictions[wrong], y_test[wrong]), fontsize=20)"
   ]
  },
  {
   "cell_type": "markdown",
   "id": "40d7210e",
   "metadata": {},
   "source": [
    "### showing misclassified elements"
   ]
  },
  {
   "cell_type": "code",
   "execution_count": 52,
   "id": "69140bd0",
   "metadata": {},
   "outputs": [
    {
     "data": {
      "image/png": "[encoded data removed]",
      "text/plain": [
       "<Figure size 900x900 with 4 Axes>"
      ]
     },
     "metadata": {},
     "output_type": "display_data"
    }
   ],
   "source": [
    "plt.figure(figsize=(9,9),tight_layout=True)\n",
    "index=0\n",
    "misclass=[]\n",
    "for predict,actual in zip(y_pred,y_test):\n",
    "    if predict!=actual:\n",
    "        misclass.append(index)\n",
    "    index+=1\n",
    "    \n",
    "for pindex,wrong in enumerate(misclass[:4]):\n",
    "    plt.subplot(1,4,pindex+1)\n",
    "    plt.imshow(np.reshape(X_test[wrong],(8,8)))\n",
    "    plt.title('predicted:{},actual:{}'.format(y_pred[wrong],y_test[wrong]))"
   ]
  },
  {
   "cell_type": "code",
   "execution_count": null,
   "id": "fecd4f2b",
   "metadata": {},
   "outputs": [],
   "source": []
  }
 ],
 "metadata": {
  "kernelspec": {
   "display_name": "Python 3 (ipykernel)",
   "language": "python",
   "name": "python3"
  },
  "language_info": {
   "codemirror_mode": {
    "name": "ipython",
    "version": 3
   },
   "file_extension": ".py",
   "mimetype": "text/x-python",
   "name": "python",
   "nbconvert_exporter": "python",
   "pygments_lexer": "ipython3",
   "version": "3.9.13"
  }
 },
 "nbformat": 4,
 "nbformat_minor": 5
}
